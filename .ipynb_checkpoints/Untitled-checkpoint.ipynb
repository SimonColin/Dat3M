{
 "cells": [
  {
   "cell_type": "code",
   "execution_count": 60,
   "metadata": {},
   "outputs": [
    {
     "name": "stdout",
     "output_type": "stream",
     "text": [
      "[0.718, 4.61, 43.079, 119.401, 564.396]\n",
      "[1, 2, 3, 4, 5]\n"
     ]
    },
    {
     "data": {
      "image/png": "[encoded data removed]",
      "text/plain": [
       "<matplotlib.figure.Figure at 0x7f94cc7c3470>"
      ]
     },
     "metadata": {},
     "output_type": "display_data"
    },
    {
     "data": {
      "image/png": "[encoded data removed]",
      "text/plain": [
       "<matplotlib.figure.Figure at 0x7f94cc940358>"
      ]
     },
     "metadata": {},
     "output_type": "display_data"
    }
   ],
   "source": [
    "import re\n",
    "import json\n",
    "import subprocess\n",
    "import os, sys\n",
    "import matplotlib as mpl\n",
    "from matplotlib import pyplot as plt\n",
    "from matplotlib.ticker import MaxNLocator\n",
    "import matplotlib\n",
    "\n",
    "log = r'/run/media/ael/Projects/' + 'Dat3M/dartagnan' + '/benchmarks/ms-thesis/result.log'\n",
    "#log = r'/run/media/ael/Projects/' + 'mousquetaires' + '/benchmarks/ms-thesis/result.log'\n",
    "\n",
    "MODE_STATISTICS = False\n",
    "\n",
    "colors = {\n",
    "    \"XEvent\" :  \"#4682B4\", #light blue\n",
    "    \"XLocalMemoryEvent\" : \"#228B22\", #forset green\n",
    "    \"XSharedMemoryEvent\" : \"#FF8C00\", #orange\n",
    "    \"XNopEvent\" : \"#DC143C\" #pink\n",
    "}\n",
    "\n",
    "\n",
    "with open(log, 'r') as f:\n",
    "    vals = json.load(f)\n",
    "\n",
    "X = []\n",
    "Ys = {}\n",
    "Y2s = {}\n",
    "T = []\n",
    "for x in vals:\n",
    "    if \"options\" not in x:\n",
    "        continue\n",
    "    X.append(int(x[\"options\"][\"unrollingBound\"]))\n",
    "    T.append(float(x[\"timers\"][\"ProgramDomainEncoding\"][\"elapsedTimeSec\"]))\n",
    "    for proc in x[\"processStatisticsUnrolled\"]:\n",
    "        if \"lude\" in proc:\n",
    "            continue\n",
    "        for e in colors.keys():\n",
    "            if proc not in Ys:\n",
    "                Ys[proc] = {}\n",
    "                Y2s[proc] = {}\n",
    "            if e not in Ys[proc]:\n",
    "                Ys[proc][e] = []\n",
    "                Y2s[proc][e] = []\n",
    "            unr = int(x[\"processStatisticsUnrolled\"][proc][e])\n",
    "            Ys[proc][e].append(unr)\n",
    "            Y2s[proc][e].append(int(x[\"processStatistics\"][proc][e]))\n",
    "            \n",
    "\n",
    "            \n",
    "def proc_name(v):\n",
    "    return \"\".join([x if x>='a' and x<='z' else ' '+x.lower() for x in v[1:]])+\"s\"\n",
    "    \n",
    "i = 1\n",
    "\n",
    "if MODE_STATISTICS:\n",
    "    for proc in Ys.keys():\n",
    "        #ax = plt.subplot(2, 1, i)\n",
    "        #ax.xaxis.set_major_locator(MaxNLocator(integer=True))\n",
    "        #ax.yaxis.set_major_locator(MaxNLocator(integer=True))\n",
    "        ax = plt.figure().gca()\n",
    "        ax.xaxis.set_major_locator(MaxNLocator(integer=True))\n",
    "        ax.yaxis.set_major_locator(MaxNLocator(integer=True))\n",
    "        plt.xlabel(\"Unrolling bound\")\n",
    "        plt.ylabel(\"Number of events\")\n",
    "        plt.grid(True)\n",
    "        plt.title(proc)\n",
    "        for v in Ys[proc].keys():\n",
    "            plt.plot(X, Ys[proc][v], 'go-', linewidth=1, markersize=3, color=colors[v], label=proc_name(v)) \n",
    "            plt.plot(X, Y2s[proc][v], 'go--', linewidth=1, markersize=3, color=colors[v], label=proc_name(v))\n",
    "        #box = ax.get_position()\n",
    "        #plt.set_position([box.x0, box.y0, box.width * 0.8, box.height])\n",
    "        #legend = ax.legend(loc='center left')#, bbox_to_anchor=(1, 0.5))\n",
    "        plt.gca().legend()\n",
    "        plt.show()\n",
    "        i += 1\n",
    "\n",
    "else:\n",
    "    for proc in Ys.keys():\n",
    "        #ax = plt.subplot(2, 1, i)\n",
    "        #ax.xaxis.set_major_locator(MaxNLocator(integer=True))\n",
    "        #ax.yaxis.set_major_locator(MaxNLocator(integer=True))\n",
    "        ax = plt.figure().gca()\n",
    "        ax.xaxis.set_major_locator(MaxNLocator(integer=True))\n",
    "        plt.xlabel(\"Unrolling bound\")\n",
    "        plt.ylabel(\"Program domain encoding time (sec)\")\n",
    "        \n",
    "        plt.grid(True)\n",
    "        plt.title(proc)\n",
    "        plt.plot(X, T, 'go-', linewidth=1, markersize=3, color='red', label=v)    \n",
    "        box = ax.get_position()\n",
    "        plt.show()\n",
    "        i += 1  \n",
    "\n",
    "\n"
   ]
  },
  {
   "cell_type": "code",
   "execution_count": null,
   "metadata": {},
   "outputs": [],
   "source": []
  },
  {
   "cell_type": "code",
   "execution_count": null,
   "metadata": {},
   "outputs": [],
   "source": []
  }
 ],
 "metadata": {
  "kernelspec": {
   "display_name": "Python 3",
   "language": "python",
   "name": "python3"
  },
  "language_info": {
   "codemirror_mode": {
    "name": "ipython",
    "version": 3
   },
   "file_extension": ".py",
   "mimetype": "text/x-python",
   "name": "python",
   "nbconvert_exporter": "python",
   "pygments_lexer": "ipython3",
   "version": "3.6.4"
  }
 },
 "nbformat": 4,
 "nbformat_minor": 2
}
